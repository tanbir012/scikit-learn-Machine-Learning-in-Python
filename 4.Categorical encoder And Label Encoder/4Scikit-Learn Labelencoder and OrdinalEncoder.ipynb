{
 "cells": [
  {
   "cell_type": "code",
   "execution_count": 1,
   "id": "fcc99725-f879-4c7e-ad38-b98e8af92c79",
   "metadata": {},
   "outputs": [],
   "source": [
    "import numpy as np \n",
    "import pandas as pd"
   ]
  },
  {
   "cell_type": "code",
   "execution_count": 2,
   "id": "34fa2283-5165-4260-8a95-996caaccd3ff",
   "metadata": {},
   "outputs": [],
   "source": [
    "df = pd.read_csv(\"D:\\AI\\Dataset\\CAR DETAILS FROM CAR DEKHO.csv\",usecols=['name','seller_type','transmission','owner','fuel'])"
   ]
  },
  {
   "cell_type": "code",
   "execution_count": 3,
   "id": "39010b2b-820e-4d8f-b010-adfaea4cf658",
   "metadata": {},
   "outputs": [
    {
     "data": {
      "text/html": [
       "<div>\n",
       "<style scoped>\n",
       "    .dataframe tbody tr th:only-of-type {\n",
       "        vertical-align: middle;\n",
       "    }\n",
       "\n",
       "    .dataframe tbody tr th {\n",
       "        vertical-align: top;\n",
       "    }\n",
       "\n",
       "    .dataframe thead th {\n",
       "        text-align: right;\n",
       "    }\n",
       "</style>\n",
       "<table border=\"1\" class=\"dataframe\">\n",
       "  <thead>\n",
       "    <tr style=\"text-align: right;\">\n",
       "      <th></th>\n",
       "      <th>name</th>\n",
       "      <th>fuel</th>\n",
       "      <th>seller_type</th>\n",
       "      <th>transmission</th>\n",
       "      <th>owner</th>\n",
       "    </tr>\n",
       "  </thead>\n",
       "  <tbody>\n",
       "    <tr>\n",
       "      <th>0</th>\n",
       "      <td>Maruti 800 AC</td>\n",
       "      <td>Petrol</td>\n",
       "      <td>Individual</td>\n",
       "      <td>Manual</td>\n",
       "      <td>First Owner</td>\n",
       "    </tr>\n",
       "    <tr>\n",
       "      <th>1</th>\n",
       "      <td>Maruti Wagon R LXI Minor</td>\n",
       "      <td>Petrol</td>\n",
       "      <td>Individual</td>\n",
       "      <td>Manual</td>\n",
       "      <td>First Owner</td>\n",
       "    </tr>\n",
       "    <tr>\n",
       "      <th>2</th>\n",
       "      <td>Hyundai Verna 1.6 SX</td>\n",
       "      <td>Diesel</td>\n",
       "      <td>Individual</td>\n",
       "      <td>Manual</td>\n",
       "      <td>First Owner</td>\n",
       "    </tr>\n",
       "    <tr>\n",
       "      <th>3</th>\n",
       "      <td>Datsun RediGO T Option</td>\n",
       "      <td>Petrol</td>\n",
       "      <td>Individual</td>\n",
       "      <td>Manual</td>\n",
       "      <td>First Owner</td>\n",
       "    </tr>\n",
       "    <tr>\n",
       "      <th>4</th>\n",
       "      <td>Honda Amaze VX i-DTEC</td>\n",
       "      <td>Diesel</td>\n",
       "      <td>Individual</td>\n",
       "      <td>Manual</td>\n",
       "      <td>Second Owner</td>\n",
       "    </tr>\n",
       "  </tbody>\n",
       "</table>\n",
       "</div>"
      ],
      "text/plain": [
       "                       name    fuel seller_type transmission         owner\n",
       "0             Maruti 800 AC  Petrol  Individual       Manual   First Owner\n",
       "1  Maruti Wagon R LXI Minor  Petrol  Individual       Manual   First Owner\n",
       "2      Hyundai Verna 1.6 SX  Diesel  Individual       Manual   First Owner\n",
       "3    Datsun RediGO T Option  Petrol  Individual       Manual   First Owner\n",
       "4     Honda Amaze VX i-DTEC  Diesel  Individual       Manual  Second Owner"
      ]
     },
     "execution_count": 3,
     "metadata": {},
     "output_type": "execute_result"
    }
   ],
   "source": [
    "df.head()"
   ]
  },
  {
   "cell_type": "markdown",
   "id": "7670d291-2ed6-4eb1-8e26-6a0a63b4e5ef",
   "metadata": {},
   "source": [
    "# To summarize"
   ]
  },
  {
   "cell_type": "raw",
   "id": "5840539b-4ccc-4022-95ef-e022151e84b1",
   "metadata": {},
   "source": [
    " Ordinal variables -->OrdinalEncoder: Owner,Seller_type, Transmission\n",
    "Target or label variables -->> label encoder: fuel"
   ]
  },
  {
   "cell_type": "markdown",
   "id": "b44ccaa5-9b2f-4e5c-a1ab-b510cff20476",
   "metadata": {},
   "source": [
    "# using Python"
   ]
  },
  {
   "cell_type": "code",
   "execution_count": 4,
   "id": "d4e86fb2-4043-45b4-9928-61ee0c13b60c",
   "metadata": {},
   "outputs": [],
   "source": [
    "df.drop('name',axis=1,inplace=True) # In this data fuel is input data"
   ]
  },
  {
   "cell_type": "code",
   "execution_count": 5,
   "id": "c29391c4-9553-4465-a7dc-636e96e3db06",
   "metadata": {},
   "outputs": [
    {
     "data": {
      "text/html": [
       "<div>\n",
       "<style scoped>\n",
       "    .dataframe tbody tr th:only-of-type {\n",
       "        vertical-align: middle;\n",
       "    }\n",
       "\n",
       "    .dataframe tbody tr th {\n",
       "        vertical-align: top;\n",
       "    }\n",
       "\n",
       "    .dataframe thead th {\n",
       "        text-align: right;\n",
       "    }\n",
       "</style>\n",
       "<table border=\"1\" class=\"dataframe\">\n",
       "  <thead>\n",
       "    <tr style=\"text-align: right;\">\n",
       "      <th></th>\n",
       "      <th>fuel</th>\n",
       "      <th>seller_type</th>\n",
       "      <th>transmission</th>\n",
       "      <th>owner</th>\n",
       "    </tr>\n",
       "  </thead>\n",
       "  <tbody>\n",
       "    <tr>\n",
       "      <th>0</th>\n",
       "      <td>Petrol</td>\n",
       "      <td>Individual</td>\n",
       "      <td>Manual</td>\n",
       "      <td>First Owner</td>\n",
       "    </tr>\n",
       "    <tr>\n",
       "      <th>1</th>\n",
       "      <td>Petrol</td>\n",
       "      <td>Individual</td>\n",
       "      <td>Manual</td>\n",
       "      <td>First Owner</td>\n",
       "    </tr>\n",
       "    <tr>\n",
       "      <th>2</th>\n",
       "      <td>Diesel</td>\n",
       "      <td>Individual</td>\n",
       "      <td>Manual</td>\n",
       "      <td>First Owner</td>\n",
       "    </tr>\n",
       "    <tr>\n",
       "      <th>3</th>\n",
       "      <td>Petrol</td>\n",
       "      <td>Individual</td>\n",
       "      <td>Manual</td>\n",
       "      <td>First Owner</td>\n",
       "    </tr>\n",
       "    <tr>\n",
       "      <th>4</th>\n",
       "      <td>Diesel</td>\n",
       "      <td>Individual</td>\n",
       "      <td>Manual</td>\n",
       "      <td>Second Owner</td>\n",
       "    </tr>\n",
       "    <tr>\n",
       "      <th>...</th>\n",
       "      <td>...</td>\n",
       "      <td>...</td>\n",
       "      <td>...</td>\n",
       "      <td>...</td>\n",
       "    </tr>\n",
       "    <tr>\n",
       "      <th>4335</th>\n",
       "      <td>Diesel</td>\n",
       "      <td>Individual</td>\n",
       "      <td>Manual</td>\n",
       "      <td>Second Owner</td>\n",
       "    </tr>\n",
       "    <tr>\n",
       "      <th>4336</th>\n",
       "      <td>Diesel</td>\n",
       "      <td>Individual</td>\n",
       "      <td>Manual</td>\n",
       "      <td>Second Owner</td>\n",
       "    </tr>\n",
       "    <tr>\n",
       "      <th>4337</th>\n",
       "      <td>Petrol</td>\n",
       "      <td>Individual</td>\n",
       "      <td>Manual</td>\n",
       "      <td>Second Owner</td>\n",
       "    </tr>\n",
       "    <tr>\n",
       "      <th>4338</th>\n",
       "      <td>Diesel</td>\n",
       "      <td>Individual</td>\n",
       "      <td>Manual</td>\n",
       "      <td>First Owner</td>\n",
       "    </tr>\n",
       "    <tr>\n",
       "      <th>4339</th>\n",
       "      <td>Petrol</td>\n",
       "      <td>Individual</td>\n",
       "      <td>Manual</td>\n",
       "      <td>First Owner</td>\n",
       "    </tr>\n",
       "  </tbody>\n",
       "</table>\n",
       "<p>4340 rows × 4 columns</p>\n",
       "</div>"
      ],
      "text/plain": [
       "        fuel seller_type transmission         owner\n",
       "0     Petrol  Individual       Manual   First Owner\n",
       "1     Petrol  Individual       Manual   First Owner\n",
       "2     Diesel  Individual       Manual   First Owner\n",
       "3     Petrol  Individual       Manual   First Owner\n",
       "4     Diesel  Individual       Manual  Second Owner\n",
       "...      ...         ...          ...           ...\n",
       "4335  Diesel  Individual       Manual  Second Owner\n",
       "4336  Diesel  Individual       Manual  Second Owner\n",
       "4337  Petrol  Individual       Manual  Second Owner\n",
       "4338  Diesel  Individual       Manual   First Owner\n",
       "4339  Petrol  Individual       Manual   First Owner\n",
       "\n",
       "[4340 rows x 4 columns]"
      ]
     },
     "execution_count": 5,
     "metadata": {},
     "output_type": "execute_result"
    }
   ],
   "source": [
    "df"
   ]
  },
  {
   "cell_type": "code",
   "execution_count": 6,
   "id": "23117a2e-f8be-4a7b-b0cf-fd06dcb6f391",
   "metadata": {},
   "outputs": [
    {
     "data": {
      "text/plain": [
       "transmission\n",
       "Manual       3892\n",
       "Automatic     448\n",
       "Name: count, dtype: int64"
      ]
     },
     "execution_count": 6,
     "metadata": {},
     "output_type": "execute_result"
    }
   ],
   "source": [
    "df['transmission'].value_counts() # --> twwo categorical data "
   ]
  },
  {
   "cell_type": "code",
   "execution_count": 7,
   "id": "d1ff6911-f545-4665-a124-316684b8f5c2",
   "metadata": {},
   "outputs": [],
   "source": [
    "df['trans_new'] = df['transmission'].map({'Manual': 0, 'Automatic': 1})"
   ]
  },
  {
   "cell_type": "code",
   "execution_count": 8,
   "id": "bb4dc470-3150-42c0-aafb-b720cc38ed64",
   "metadata": {},
   "outputs": [
    {
     "data": {
      "text/html": [
       "<div>\n",
       "<style scoped>\n",
       "    .dataframe tbody tr th:only-of-type {\n",
       "        vertical-align: middle;\n",
       "    }\n",
       "\n",
       "    .dataframe tbody tr th {\n",
       "        vertical-align: top;\n",
       "    }\n",
       "\n",
       "    .dataframe thead th {\n",
       "        text-align: right;\n",
       "    }\n",
       "</style>\n",
       "<table border=\"1\" class=\"dataframe\">\n",
       "  <thead>\n",
       "    <tr style=\"text-align: right;\">\n",
       "      <th></th>\n",
       "      <th>fuel</th>\n",
       "      <th>seller_type</th>\n",
       "      <th>transmission</th>\n",
       "      <th>owner</th>\n",
       "      <th>trans_new</th>\n",
       "    </tr>\n",
       "  </thead>\n",
       "  <tbody>\n",
       "    <tr>\n",
       "      <th>243</th>\n",
       "      <td>Petrol</td>\n",
       "      <td>Individual</td>\n",
       "      <td>Manual</td>\n",
       "      <td>Second Owner</td>\n",
       "      <td>0</td>\n",
       "    </tr>\n",
       "    <tr>\n",
       "      <th>786</th>\n",
       "      <td>Diesel</td>\n",
       "      <td>Individual</td>\n",
       "      <td>Manual</td>\n",
       "      <td>Second Owner</td>\n",
       "      <td>0</td>\n",
       "    </tr>\n",
       "    <tr>\n",
       "      <th>3256</th>\n",
       "      <td>Diesel</td>\n",
       "      <td>Individual</td>\n",
       "      <td>Automatic</td>\n",
       "      <td>First Owner</td>\n",
       "      <td>1</td>\n",
       "    </tr>\n",
       "    <tr>\n",
       "      <th>2680</th>\n",
       "      <td>Petrol</td>\n",
       "      <td>Individual</td>\n",
       "      <td>Manual</td>\n",
       "      <td>First Owner</td>\n",
       "      <td>0</td>\n",
       "    </tr>\n",
       "    <tr>\n",
       "      <th>2582</th>\n",
       "      <td>Diesel</td>\n",
       "      <td>Individual</td>\n",
       "      <td>Automatic</td>\n",
       "      <td>First Owner</td>\n",
       "      <td>1</td>\n",
       "    </tr>\n",
       "  </tbody>\n",
       "</table>\n",
       "</div>"
      ],
      "text/plain": [
       "        fuel seller_type transmission         owner  trans_new\n",
       "243   Petrol  Individual       Manual  Second Owner          0\n",
       "786   Diesel  Individual       Manual  Second Owner          0\n",
       "3256  Diesel  Individual    Automatic   First Owner          1\n",
       "2680  Petrol  Individual       Manual   First Owner          0\n",
       "2582  Diesel  Individual    Automatic   First Owner          1"
      ]
     },
     "execution_count": 8,
     "metadata": {},
     "output_type": "execute_result"
    }
   ],
   "source": [
    "df.sample(5)\n"
   ]
  },
  {
   "cell_type": "code",
   "execution_count": 9,
   "id": "80bcb7fc-ba84-48d6-8c23-3081caa1bf3f",
   "metadata": {},
   "outputs": [],
   "source": [
    "# df['seller_type'].value_counts()"
   ]
  },
  {
   "cell_type": "code",
   "execution_count": 10,
   "id": "0e41b616-0675-4f69-9ed5-570d9ba1976b",
   "metadata": {},
   "outputs": [],
   "source": [
    "#df['seller_new'] = df['seller_type'].map({'Indivisual': 0, 'Dealer': 1,'Trustmark Dealer':2 })\n",
    "#df.sample(5)\n"
   ]
  },
  {
   "cell_type": "code",
   "execution_count": 11,
   "id": "45b7e673-061d-4ba5-8deb-93dad008cea9",
   "metadata": {},
   "outputs": [],
   "source": [
    "from sklearn.model_selection import train_test_split"
   ]
  },
  {
   "cell_type": "code",
   "execution_count": 12,
   "id": "4cc8d060-cda2-458a-b261-54eae8a0b94a",
   "metadata": {},
   "outputs": [],
   "source": [
    "X_train,X_test,y_train,y_test = train_test_split(df.drop('fuel',axis=1),df['fuel'],test_size=0.2,random_state=42)"
   ]
  },
  {
   "cell_type": "code",
   "execution_count": 14,
   "id": "51c53d0a-6071-4369-9b1e-7d1c5eac7f13",
   "metadata": {},
   "outputs": [
    {
     "data": {
      "text/plain": [
       "227     Diesel\n",
       "964     Diesel\n",
       "2045    Petrol\n",
       "1025    Diesel\n",
       "4242    Diesel\n",
       "         ...  \n",
       "3444    Diesel\n",
       "466     Diesel\n",
       "3092    Diesel\n",
       "3772    Diesel\n",
       "860     Petrol\n",
       "Name: fuel, Length: 3472, dtype: object"
      ]
     },
     "execution_count": 14,
     "metadata": {},
     "output_type": "execute_result"
    }
   ],
   "source": [
    "y_train"
   ]
  },
  {
   "cell_type": "markdown",
   "id": "6418e629-aa08-404e-a427-9403614269e8",
   "metadata": {},
   "source": [
    "# Using Scikit-learn"
   ]
  },
  {
   "cell_type": "code",
   "execution_count": 15,
   "id": "054ee224-1f69-4877-803c-ea49b493a540",
   "metadata": {},
   "outputs": [],
   "source": [
    "from sklearn.preprocessing import LabelEncoder,OrdinalEncoder"
   ]
  },
  {
   "cell_type": "markdown",
   "id": "800c95d8-fae9-4c49-b256-0859a14360a0",
   "metadata": {},
   "source": [
    "# 1.Applying Label Encoder"
   ]
  },
  {
   "cell_type": "code",
   "execution_count": 18,
   "id": "4a0f3c6a-f14a-4d8b-8739-6e7be9aa5e5c",
   "metadata": {},
   "outputs": [],
   "source": [
    "le = LabelEncoder() #  it is used in the target value"
   ]
  },
  {
   "cell_type": "code",
   "execution_count": 20,
   "id": "4cba0e7a-3577-4a79-a5b1-f24be65ce59b",
   "metadata": {},
   "outputs": [],
   "source": [
    "y_train_scalled = le.fit_transform(y_train)\n",
    "y_test_scalled = le.transform(y_test)"
   ]
  },
  {
   "cell_type": "code",
   "execution_count": 22,
   "id": "f0da1c0a-7f61-4234-aacd-2a0f297afb54",
   "metadata": {},
   "outputs": [
    {
     "data": {
      "text/plain": [
       "array([1, 1, 4, ..., 1, 1, 4])"
      ]
     },
     "execution_count": 22,
     "metadata": {},
     "output_type": "execute_result"
    }
   ],
   "source": [
    "y_train_scalled"
   ]
  },
  {
   "cell_type": "markdown",
   "id": "f6f2021b-f7d8-42de-b79c-daa2c826e621",
   "metadata": {},
   "source": [
    "# 2.Ordinal Encoder"
   ]
  },
  {
   "cell_type": "code",
   "execution_count": 26,
   "id": "a2152df5-5717-4b5f-86a1-5adc0b4b4a96",
   "metadata": {},
   "outputs": [],
   "source": [
    "from sklearn.preprocessing import OrdinalEncoder"
   ]
  },
  {
   "cell_type": "code",
   "execution_count": 31,
   "id": "fe83c664-425f-455b-b39e-73a569ed8265",
   "metadata": {},
   "outputs": [],
   "source": [
    "oe = OrdinalEncoder()"
   ]
  },
  {
   "cell_type": "code",
   "execution_count": 33,
   "id": "8d9d3d27-2e71-411d-a3c9-5296aba1a075",
   "metadata": {},
   "outputs": [],
   "source": [
    "X_train_traf = oe.fit_transform(X_train)\n",
    "X_test_traf = oe.transform(X_test)"
   ]
  },
  {
   "cell_type": "code",
   "execution_count": 34,
   "id": "6580001d-0a54-4fba-864a-56e1f27b0b4c",
   "metadata": {},
   "outputs": [
    {
     "data": {
      "text/plain": [
       "array([[1., 1., 0., 0.],\n",
       "       [1., 1., 0., 0.],\n",
       "       [1., 1., 2., 0.],\n",
       "       ...,\n",
       "       [0., 1., 0., 0.],\n",
       "       [1., 1., 0., 0.],\n",
       "       [1., 1., 0., 0.]])"
      ]
     },
     "execution_count": 34,
     "metadata": {},
     "output_type": "execute_result"
    }
   ],
   "source": [
    "X_train_traf"
   ]
  },
  {
   "cell_type": "code",
   "execution_count": null,
   "id": "65e61721-aedd-4dac-8c44-4063ef674131",
   "metadata": {},
   "outputs": [],
   "source": []
  }
 ],
 "metadata": {
  "kernelspec": {
   "display_name": "Python 3 (ipykernel)",
   "language": "python",
   "name": "python3"
  },
  "language_info": {
   "codemirror_mode": {
    "name": "ipython",
    "version": 3
   },
   "file_extension": ".py",
   "mimetype": "text/x-python",
   "name": "python",
   "nbconvert_exporter": "python",
   "pygments_lexer": "ipython3",
   "version": "3.11.7"
  }
 },
 "nbformat": 4,
 "nbformat_minor": 5
}
